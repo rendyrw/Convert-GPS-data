{
 "cells": [
  {
   "cell_type": "markdown",
   "id": "0a15ea07-8907-4ce8-9d04-6ecb4b00bd34",
   "metadata": {},
   "source": [
    "## GPX to CSV code"
   ]
  },
  {
   "cell_type": "code",
   "execution_count": null,
   "id": "b7324ef4-6ded-4d3a-a128-3cdfa645a448",
   "metadata": {},
   "outputs": [],
   "source": [
    "import gpxpy\n",
    "import csv\n",
    "\n",
    "def gpx_to_csv(gpx_file_path, csv_file_path):\n",
    "    \"\"\"\n",
    "    Converts a GPX file to a CSV file, extracting all relevant data.\n",
    "\n",
    "    Parameters:\n",
    "        gpx_file_path (str): Path to the GPX file.\n",
    "        csv_file_path (str): Path to save the CSV file.\n",
    "    \"\"\"\n",
    "    try:\n",
    "        # Open and parse the GPX file\n",
    "        with open(gpx_file_path, 'r') as gpx_file:\n",
    "            gpx = gpxpy.parse(gpx_file)\n",
    "\n",
    "        # Prepare a list to store the extracted data\n",
    "        data = []\n",
    "\n",
    "        # Check for data in waypoints, tracks, and routes\n",
    "        # Extract waypoints\n",
    "        for waypoint in gpx.waypoints:\n",
    "            data.append({\n",
    "                'latitude': waypoint.latitude,\n",
    "                'longitude': waypoint.longitude,\n",
    "                'elevation': waypoint.elevation,\n",
    "                'time': waypoint.time.isoformat() if waypoint.time else None,\n",
    "                'name': waypoint.name or \"Unnamed Waypoint\",\n",
    "                'type': 'waypoint',\n",
    "            })\n",
    "\n",
    "        # Extract tracks\n",
    "        for track in gpx.tracks:\n",
    "            track_name = track.name or \"Unnamed Track\"\n",
    "            for segment in track.segments:\n",
    "                for point in segment.points:\n",
    "                    data.append({\n",
    "                        'latitude': point.latitude,\n",
    "                        'longitude': point.longitude,\n",
    "                        'elevation': point.elevation,\n",
    "                        'time': point.time.isoformat() if point.time else None,\n",
    "                        'name': track_name,\n",
    "                        'type': 'track_point',\n",
    "                    })\n",
    "\n",
    "        # Extract routes\n",
    "        for route in gpx.routes:\n",
    "            route_name = route.name or \"Unnamed Route\"\n",
    "            for point in route.points:\n",
    "                data.append({\n",
    "                    'latitude': point.latitude,\n",
    "                    'longitude': point.longitude,\n",
    "                    'elevation': point.elevation,\n",
    "                    'time': point.time.isoformat() if point.time else None,\n",
    "                    'name': route_name,\n",
    "                    'type': 'route_point',\n",
    "                })\n",
    "\n",
    "        # Check if any data was extracted\n",
    "        if not data:\n",
    "            raise ValueError(\"No valid data found in the GPX file.\")\n",
    "\n",
    "        # Write extracted data to CSV\n",
    "        with open(csv_file_path, 'w', newline='', encoding='utf-8') as csv_file:\n",
    "            fieldnames = ['latitude', 'longitude', 'elevation', 'time', 'name', 'type']\n",
    "            writer = csv.DictWriter(csv_file, fieldnames=fieldnames)\n",
    "            writer.writeheader()\n",
    "            writer.writerows(data)\n",
    "\n",
    "        print(f\"Data successfully written to {csv_file_path}.\")\n",
    "        print(f\"Sample data:\\n{data[:5]}\")  # Display first 5 rows as sample\n",
    "\n",
    "    except Exception as e:\n",
    "        print(f\"An error occurred: {e}\")\n",
    "\n",
    "# Example usage\n",
    "gpx_to_csv('example.gpx', 'output.csv')\n"
   ]
  },
  {
   "cell_type": "markdown",
   "id": "fdb18010-76e9-4ef9-8349-2769f6a61fdc",
   "metadata": {
    "jp-MarkdownHeadingCollapsed": true
   },
   "source": [
    "## KML to CSV Code"
   ]
  },
  {
   "cell_type": "code",
   "execution_count": 1,
   "id": "2595fee1-e0c8-4a26-bd67-2f48b7276402",
   "metadata": {},
   "outputs": [],
   "source": [
    "import xml.etree.ElementTree as ET\n",
    "import csv\n"
   ]
  },
  {
   "cell_type": "code",
   "execution_count": 5,
   "id": "a389466b-2b07-4204-a045-35d54a3bb1db",
   "metadata": {},
   "outputs": [],
   "source": [
    "def kml_to_csv(kml_file, csv_file):\n",
    "    # Parse the KML file\n",
    "    tree = ET.parse(kml_file)\n",
    "    root = tree.getroot()\n",
    "\n",
    "    # Namespace used in KML files\n",
    "    namespace = {'kml': 'http://www.opengis.net/kml/2.2'}\n",
    "\n",
    "    # Extract all coordinates from the merged element\n",
    "    coordinates = []\n",
    "    for coord in root.findall('.//kml:coordinates', namespace):\n",
    "        coord_text = coord.text.strip()\n",
    "        coord_list = coord_text.split()  # Split based on spaces or newlines\n",
    "        for coord_pair in coord_list:\n",
    "            lon, lat, *alt = coord_pair.split(\",\")\n",
    "            coordinates.append((float(lat), float(lon), float(alt[0]) if alt else None))\n",
    "\n",
    "    # Write to CSV\n",
    "    with open(csv_file, 'w', newline='') as csvfile:\n",
    "        writer = csv.writer(csvfile)\n",
    "        # Write header\n",
    "        writer.writerow(['Latitude', 'Longitude', 'Altitude'])\n",
    "        # Write coordinates\n",
    "        writer.writerows(coordinates)"
   ]
  },
  {
   "cell_type": "code",
   "execution_count": 7,
   "id": "b9f66122-82ca-474a-b83f-56e308b5202a",
   "metadata": {},
   "outputs": [
    {
     "name": "stdout",
     "output_type": "stream",
     "text": [
      "Coordinates have been successfully converted from GL01GB.kml to GL01GB(1).csv.\n"
     ]
    }
   ],
   "source": [
    "# Example usage\n",
    "kml_file = \"GL01GB.kml\"  # Replace with your KML file path\n",
    "csv_file = \"GL01GB(1).csv\"   # Replace with your desired CSV file path\n",
    "kml_to_csv(kml_file, csv_file)\n",
    "\n",
    "print(f\"Coordinates have been successfully converted from {kml_file} to {csv_file}.\")"
   ]
  },
  {
   "cell_type": "code",
   "execution_count": null,
   "id": "8c44bc74-de65-4bbc-95cc-8a26a26154e3",
   "metadata": {},
   "outputs": [],
   "source": []
  }
 ],
 "metadata": {
  "kernelspec": {
   "display_name": "Python 3 (ipykernel)",
   "language": "python",
   "name": "python3"
  },
  "language_info": {
   "codemirror_mode": {
    "name": "ipython",
    "version": 3
   },
   "file_extension": ".py",
   "mimetype": "text/x-python",
   "name": "python",
   "nbconvert_exporter": "python",
   "pygments_lexer": "ipython3",
   "version": "3.11.9"
  }
 },
 "nbformat": 4,
 "nbformat_minor": 5
}
